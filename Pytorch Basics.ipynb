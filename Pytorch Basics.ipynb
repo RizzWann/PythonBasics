{
 "cells": [
  {
   "cell_type": "code",
   "execution_count": 1,
   "id": "ab1145ac",
   "metadata": {},
   "outputs": [],
   "source": [
    "import torch"
   ]
  },
  {
   "cell_type": "markdown",
   "id": "3c172319",
   "metadata": {},
   "source": [
    "# 1. Basics"
   ]
  },
  {
   "cell_type": "code",
   "execution_count": 2,
   "id": "d44efb08",
   "metadata": {},
   "outputs": [
    {
     "data": {
      "text/plain": [
       "tensor([[9.2755e-39, 1.0286e-38, 1.0653e-38],\n",
       "        [2.9389e-39, 1.0286e-38, 9.0919e-39]])"
      ]
     },
     "execution_count": 2,
     "metadata": {},
     "output_type": "execute_result"
    }
   ],
   "source": [
    "torch.empty(2,3)"
   ]
  },
  {
   "cell_type": "code",
   "execution_count": 3,
   "id": "95bed1ec",
   "metadata": {},
   "outputs": [],
   "source": [
    "s=torch.tensor(7)"
   ]
  },
  {
   "cell_type": "code",
   "execution_count": 4,
   "id": "4b9eb51e",
   "metadata": {},
   "outputs": [
    {
     "data": {
      "text/plain": [
       "0"
      ]
     },
     "execution_count": 4,
     "metadata": {},
     "output_type": "execute_result"
    }
   ],
   "source": [
    "s.ndim"
   ]
  },
  {
   "cell_type": "code",
   "execution_count": 5,
   "id": "80df6d1f",
   "metadata": {},
   "outputs": [
    {
     "data": {
      "text/plain": [
       "7"
      ]
     },
     "execution_count": 5,
     "metadata": {},
     "output_type": "execute_result"
    }
   ],
   "source": [
    "s.item()"
   ]
  },
  {
   "cell_type": "code",
   "execution_count": 6,
   "id": "2e9831af",
   "metadata": {},
   "outputs": [
    {
     "data": {
      "text/plain": [
       "tensor([2, 2])"
      ]
     },
     "execution_count": 6,
     "metadata": {},
     "output_type": "execute_result"
    }
   ],
   "source": [
    "v=torch.tensor([2,2])\n",
    "v"
   ]
  },
  {
   "cell_type": "code",
   "execution_count": 7,
   "id": "b478afc4",
   "metadata": {},
   "outputs": [
    {
     "data": {
      "text/plain": [
       "1"
      ]
     },
     "execution_count": 7,
     "metadata": {},
     "output_type": "execute_result"
    }
   ],
   "source": [
    "v.ndim"
   ]
  },
  {
   "cell_type": "code",
   "execution_count": 8,
   "id": "643032f2",
   "metadata": {},
   "outputs": [
    {
     "data": {
      "text/plain": [
       "torch.Size([2])"
      ]
     },
     "execution_count": 8,
     "metadata": {},
     "output_type": "execute_result"
    }
   ],
   "source": [
    "v.shape"
   ]
  },
  {
   "cell_type": "code",
   "execution_count": 9,
   "id": "aeb2d25b",
   "metadata": {},
   "outputs": [],
   "source": [
    "m= torch.tensor([\n",
    "    [7,8],\n",
    "    [9,10]\n",
    "])"
   ]
  },
  {
   "cell_type": "code",
   "execution_count": 10,
   "id": "b864725b",
   "metadata": {},
   "outputs": [
    {
     "data": {
      "text/plain": [
       "2"
      ]
     },
     "execution_count": 10,
     "metadata": {},
     "output_type": "execute_result"
    }
   ],
   "source": [
    "m.ndim"
   ]
  },
  {
   "cell_type": "code",
   "execution_count": 11,
   "id": "b84a7903",
   "metadata": {},
   "outputs": [
    {
     "data": {
      "text/plain": [
       "torch.Size([2, 2])"
      ]
     },
     "execution_count": 11,
     "metadata": {},
     "output_type": "execute_result"
    }
   ],
   "source": [
    "m.shape"
   ]
  },
  {
   "cell_type": "code",
   "execution_count": 12,
   "id": "fd9b3c97",
   "metadata": {},
   "outputs": [
    {
     "data": {
      "text/plain": [
       "tensor([7, 8])"
      ]
     },
     "execution_count": 12,
     "metadata": {},
     "output_type": "execute_result"
    }
   ],
   "source": [
    "m[0]"
   ]
  },
  {
   "cell_type": "code",
   "execution_count": 13,
   "id": "ee9238d6",
   "metadata": {},
   "outputs": [
    {
     "data": {
      "text/plain": [
       "tensor([ 9, 10])"
      ]
     },
     "execution_count": 13,
     "metadata": {},
     "output_type": "execute_result"
    }
   ],
   "source": [
    "m[1]"
   ]
  },
  {
   "cell_type": "code",
   "execution_count": 14,
   "id": "9f891857",
   "metadata": {},
   "outputs": [],
   "source": [
    "t= torch.tensor([\n",
    "    [7,8],\n",
    "    [9,10]\n",
    "])"
   ]
  },
  {
   "cell_type": "code",
   "execution_count": 15,
   "id": "374f92ea",
   "metadata": {},
   "outputs": [
    {
     "data": {
      "text/plain": [
       "tensor([[0., 0.],\n",
       "        [0., 0.]])"
      ]
     },
     "execution_count": 15,
     "metadata": {},
     "output_type": "execute_result"
    }
   ],
   "source": [
    "torch.zeros(2,2)"
   ]
  },
  {
   "cell_type": "code",
   "execution_count": 16,
   "id": "a86dccd8",
   "metadata": {},
   "outputs": [
    {
     "data": {
      "text/plain": [
       "tensor([[1., 1.],\n",
       "        [1., 1.]])"
      ]
     },
     "execution_count": 16,
     "metadata": {},
     "output_type": "execute_result"
    }
   ],
   "source": [
    "torch.ones(2,2)"
   ]
  },
  {
   "cell_type": "code",
   "execution_count": 17,
   "id": "7a4bccdc",
   "metadata": {},
   "outputs": [
    {
     "data": {
      "text/plain": [
       "tensor([[-1.2678, -0.0035, -1.5591],\n",
       "        [-0.7959, -0.3424,  0.1654],\n",
       "        [-1.8895,  1.2750, -0.2840]])"
      ]
     },
     "execution_count": 17,
     "metadata": {},
     "output_type": "execute_result"
    }
   ],
   "source": [
    "torch.randn(3,3)"
   ]
  },
  {
   "cell_type": "code",
   "execution_count": 31,
   "id": "6d333a8c",
   "metadata": {},
   "outputs": [
    {
     "data": {
      "text/plain": [
       "tensor([[-0.5332,  0.0536, -0.1276,  3.4930],\n",
       "        [ 0.2690, -1.5329, -0.4842, -2.2473],\n",
       "        [ 1.5599, -0.3701,  0.0544, -0.2574],\n",
       "        [-0.2466,  1.4953,  0.5602,  0.0191]], requires_grad=True)"
      ]
     },
     "execution_count": 31,
     "metadata": {},
     "output_type": "execute_result"
    }
   ],
   "source": [
    "torch.randn((4,4),requires_grad=True) # It will help to calculate gradient"
   ]
  },
  {
   "cell_type": "code",
   "execution_count": 27,
   "id": "9cf21da3",
   "metadata": {},
   "outputs": [
    {
     "data": {
      "text/plain": [
       "(torch.Size([9]), tensor([1., 2., 3., 4., 5., 6., 7., 8., 9.]))"
      ]
     },
     "execution_count": 27,
     "metadata": {},
     "output_type": "execute_result"
    }
   ],
   "source": [
    "t=torch.arange(1.,10.)\n",
    "t.shape,t"
   ]
  },
  {
   "cell_type": "code",
   "execution_count": 28,
   "id": "b2e37f72",
   "metadata": {},
   "outputs": [
    {
     "data": {
      "text/plain": [
       "tensor([[1., 2., 3.],\n",
       "        [4., 5., 6.],\n",
       "        [7., 8., 9.]])"
      ]
     },
     "execution_count": 28,
     "metadata": {},
     "output_type": "execute_result"
    }
   ],
   "source": [
    "y = t.reshape(3,3) #copy of t\n",
    "y"
   ]
  },
  {
   "cell_type": "code",
   "execution_count": 29,
   "id": "c40a93be",
   "metadata": {},
   "outputs": [],
   "source": [
    "x=t.view(3,3) # view make pointer of original"
   ]
  },
  {
   "cell_type": "code",
   "execution_count": 30,
   "id": "ae556bac",
   "metadata": {},
   "outputs": [
    {
     "data": {
      "text/plain": [
       "(tensor([ 3.,  4.,  5.,  6.,  7.,  8.,  9., 10., 11.]),\n",
       " tensor([[1., 2., 3.],\n",
       "         [4., 5., 6.],\n",
       "         [7., 8., 9.]]),\n",
       " tensor([[ 4.,  5.,  6.],\n",
       "         [ 7.,  8.,  9.],\n",
       "         [10., 11., 12.]]))"
      ]
     },
     "execution_count": 30,
     "metadata": {},
     "output_type": "execute_result"
    }
   ],
   "source": [
    "t + 2,x,y+3"
   ]
  },
  {
   "cell_type": "code",
   "execution_count": 27,
   "id": "cbd6a562",
   "metadata": {},
   "outputs": [],
   "source": [
    "x[0,0]=5"
   ]
  },
  {
   "cell_type": "code",
   "execution_count": 28,
   "id": "f1614684",
   "metadata": {},
   "outputs": [
    {
     "data": {
      "text/plain": [
       "tensor([5., 2., 3., 4., 5., 6., 7., 8., 9.])"
      ]
     },
     "execution_count": 28,
     "metadata": {},
     "output_type": "execute_result"
    }
   ],
   "source": [
    "t"
   ]
  },
  {
   "cell_type": "code",
   "execution_count": 30,
   "id": "5eff99b2",
   "metadata": {},
   "outputs": [
    {
     "data": {
      "text/plain": [
       "tensor([[5., 5., 5., 5.],\n",
       "        [2., 2., 2., 2.],\n",
       "        [3., 3., 3., 3.],\n",
       "        [4., 4., 4., 4.],\n",
       "        [5., 5., 5., 5.],\n",
       "        [6., 6., 6., 6.],\n",
       "        [7., 7., 7., 7.],\n",
       "        [8., 8., 8., 8.],\n",
       "        [9., 9., 9., 9.]])"
      ]
     },
     "execution_count": 30,
     "metadata": {},
     "output_type": "execute_result"
    }
   ],
   "source": [
    "torch.stack([t,t,t,t],dim=1) #concate"
   ]
  },
  {
   "cell_type": "code",
   "execution_count": 31,
   "id": "fa3e61b9",
   "metadata": {},
   "outputs": [
    {
     "data": {
      "text/plain": [
       "tensor([5., 2., 3., 4., 5., 6., 7., 8., 9.])"
      ]
     },
     "execution_count": 31,
     "metadata": {},
     "output_type": "execute_result"
    }
   ],
   "source": [
    "torch.squeeze(t) # remove one dim"
   ]
  },
  {
   "cell_type": "code",
   "execution_count": 32,
   "id": "ad586006",
   "metadata": {},
   "outputs": [
    {
     "data": {
      "text/plain": [
       "(torch.Size([9]), torch.Size([9]))"
      ]
     },
     "execution_count": 32,
     "metadata": {},
     "output_type": "execute_result"
    }
   ],
   "source": [
    "t.shape,t.squeeze().shape"
   ]
  },
  {
   "cell_type": "code",
   "execution_count": 40,
   "id": "aa90d755",
   "metadata": {},
   "outputs": [
    {
     "data": {
      "text/plain": [
       "tensor([[5.],\n",
       "        [2.],\n",
       "        [3.],\n",
       "        [4.],\n",
       "        [5.],\n",
       "        [6.],\n",
       "        [7.],\n",
       "        [8.],\n",
       "        [9.]])"
      ]
     },
     "execution_count": 40,
     "metadata": {},
     "output_type": "execute_result"
    }
   ],
   "source": [
    "t.unsqueeze(dim=1) #add one dim"
   ]
  },
  {
   "cell_type": "code",
   "execution_count": 42,
   "id": "3fe3ca2e",
   "metadata": {},
   "outputs": [
    {
     "data": {
      "text/plain": [
       "torch.Size([2, 3, 5])"
      ]
     },
     "execution_count": 42,
     "metadata": {},
     "output_type": "execute_result"
    }
   ],
   "source": [
    "x=torch.randn(2,3,5)\n",
    "x.shape"
   ]
  },
  {
   "cell_type": "code",
   "execution_count": 43,
   "id": "4ef38112",
   "metadata": {},
   "outputs": [
    {
     "data": {
      "text/plain": [
       "torch.Size([5, 3, 2])"
      ]
     },
     "execution_count": 43,
     "metadata": {},
     "output_type": "execute_result"
    }
   ],
   "source": [
    "x.permute(2,1,0).shape # realy helpful in images data rearange tensor"
   ]
  },
  {
   "cell_type": "markdown",
   "id": "fc0ef2f8",
   "metadata": {},
   "source": [
    "#### Numpy to torch and vice versa"
   ]
  },
  {
   "cell_type": "code",
   "execution_count": 32,
   "id": "a08a20c8",
   "metadata": {},
   "outputs": [],
   "source": [
    "import numpy as np"
   ]
  },
  {
   "cell_type": "code",
   "execution_count": 36,
   "id": "a32c840a",
   "metadata": {},
   "outputs": [
    {
     "name": "stdout",
     "output_type": "stream",
     "text": [
      "tensor([1., 1., 1., 1., 1.])\n",
      "[1. 1. 1. 1. 1.]\n",
      "<built-in method type of Tensor object at 0x000001C5C8BD9130> <class 'numpy.ndarray'>\n"
     ]
    }
   ],
   "source": [
    "a = torch.ones(5)\n",
    "print(a)\n",
    "b = a.numpy()\n",
    "print(b)\n",
    "print(a.type,type(b))"
   ]
  },
  {
   "cell_type": "code",
   "execution_count": 37,
   "id": "591adc10",
   "metadata": {},
   "outputs": [
    {
     "name": "stdout",
     "output_type": "stream",
     "text": [
      "[2. 2. 2. 2. 2.]\n",
      "tensor([2., 2., 2., 2., 2.], dtype=torch.float64)\n",
      "tensor([1., 1., 1., 1., 1.], dtype=torch.float64)\n"
     ]
    }
   ],
   "source": [
    "a = np.ones(5)\n",
    "b = torch.from_numpy(a) # share same memory location\n",
    "c = torch.tensor(a) # pocy of a\n",
    "\n",
    "a += 1\n",
    "print(a)\n",
    "print(b)\n",
    "print(c)"
   ]
  },
  {
   "cell_type": "markdown",
   "id": "413a359b",
   "metadata": {},
   "source": [
    "#### GPU Support"
   ]
  },
  {
   "cell_type": "code",
   "execution_count": 38,
   "id": "b608d92c",
   "metadata": {},
   "outputs": [
    {
     "data": {
      "text/plain": [
       "tensor([[0.0247, 0.3723],\n",
       "        [0.0771, 0.9302]])"
      ]
     },
     "execution_count": 38,
     "metadata": {},
     "output_type": "execute_result"
    }
   ],
   "source": [
    "device = torch.device('cuda' if torch.cuda.is_available() else 'cpu')\n",
    "\n",
    "x = torch.rand(2,2,device=device)\n",
    "x"
   ]
  },
  {
   "cell_type": "markdown",
   "id": "c96cdbac",
   "metadata": {},
   "source": [
    "# 2. Autograd\n",
    "The package privides automatic diff for all operation on tensors."
   ]
  },
  {
   "cell_type": "code",
   "execution_count": 51,
   "id": "12936ea6",
   "metadata": {},
   "outputs": [
    {
     "name": "stdout",
     "output_type": "stream",
     "text": [
      "tensor([ 0.1938, -0.2363,  0.1585], requires_grad=True)\n",
      "tensor([2.1938, 1.7637, 2.1585], grad_fn=<AddBackward0>)\n",
      "<AddBackward0 object at 0x000001C5CAFBC850>\n"
     ]
    }
   ],
   "source": [
    "import torch\n",
    "\n",
    "x = torch.randn(3,requires_grad=True)\n",
    "y = x + 2\n",
    "\n",
    "print(x)\n",
    "print(y)\n",
    "print(y.grad_fn)"
   ]
  },
  {
   "cell_type": "code",
   "execution_count": 52,
   "id": "6e160ca0",
   "metadata": {},
   "outputs": [
    {
     "name": "stdout",
     "output_type": "stream",
     "text": [
      "tensor([4.8130, 3.1106, 4.6590], grad_fn=<MulBackward0>)\n",
      "tensor(4.1942, grad_fn=<MeanBackward0>)\n"
     ]
    }
   ],
   "source": [
    "z = y * y \n",
    "print(z)\n",
    "z = z.mean()\n",
    "print(z)"
   ]
  },
  {
   "cell_type": "code",
   "execution_count": 53,
   "id": "ef6736b7",
   "metadata": {},
   "outputs": [
    {
     "name": "stdout",
     "output_type": "stream",
     "text": [
      "None\n",
      "tensor([1.4626, 1.1758, 1.4390])\n"
     ]
    }
   ],
   "source": [
    "print(x.grad)\n",
    "z.backward() #dz/dx\n",
    "print(x.grad)\n",
    "# we need empty gradient in every epoch in back prob there will call \n",
    "# optimizer.zero_grad()"
   ]
  },
  {
   "cell_type": "markdown",
   "id": "3c521ec1",
   "metadata": {},
   "source": [
    "#### how to make requires_grad = true"
   ]
  },
  {
   "cell_type": "code",
   "execution_count": 54,
   "id": "6b0493e4",
   "metadata": {},
   "outputs": [
    {
     "name": "stdout",
     "output_type": "stream",
     "text": [
      "tensor([[ 0.4470,  1.1044],\n",
      "        [-0.4651,  0.4090]]) tensor(1.8030)\n",
      "False\n",
      "None\n"
     ]
    }
   ],
   "source": [
    "a = torch.randn(2,2)\n",
    "b = (a*a).sum()\n",
    "print(a,b)\n",
    "print(a.requires_grad)\n",
    "print(b.grad_fn)"
   ]
  },
  {
   "cell_type": "code",
   "execution_count": 56,
   "id": "10f6df97",
   "metadata": {},
   "outputs": [
    {
     "name": "stdout",
     "output_type": "stream",
     "text": [
      "True\n",
      "<SumBackward0 object at 0x000001C5CB9C7D30>\n"
     ]
    }
   ],
   "source": [
    "a.requires_grad_(True)\n",
    "b = (a*a).sum()\n",
    "print(a.requires_grad)\n",
    "print(b.grad_fn)"
   ]
  },
  {
   "cell_type": "code",
   "execution_count": 57,
   "id": "db182bd5",
   "metadata": {},
   "outputs": [
    {
     "name": "stdout",
     "output_type": "stream",
     "text": [
      "True\n",
      "False\n"
     ]
    }
   ],
   "source": [
    "a = torch.randn(2,2,requires_grad=True)\n",
    "\n",
    "b = a.detach() # create copy with grad = False\n",
    "print(a.requires_grad)\n",
    "print(b.requires_grad)"
   ]
  },
  {
   "cell_type": "code",
   "execution_count": 58,
   "id": "dee23602",
   "metadata": {},
   "outputs": [
    {
     "name": "stdout",
     "output_type": "stream",
     "text": [
      "True\n",
      "False\n"
     ]
    }
   ],
   "source": [
    "a = torch.randn(2,2,requires_grad=True)\n",
    "print(a.requires_grad)\n",
    "with torch.no_grad():\n",
    "    b = a**2\n",
    "    print(b.requires_grad)"
   ]
  },
  {
   "cell_type": "code",
   "execution_count": 2,
   "id": "b453ee86",
   "metadata": {},
   "outputs": [],
   "source": [
    "import torch\n",
    "from torch import nn\n",
    "import matplotlib.pyplot as plt"
   ]
  },
  {
   "cell_type": "markdown",
   "id": "a974a006",
   "metadata": {},
   "source": [
    "##### Make dataset"
   ]
  },
  {
   "cell_type": "code",
   "execution_count": 3,
   "id": "276a0850",
   "metadata": {},
   "outputs": [
    {
     "data": {
      "text/plain": [
       "(tensor([[0.0000],\n",
       "         [0.0200],\n",
       "         [0.0400],\n",
       "         [0.0600],\n",
       "         [0.0800],\n",
       "         [0.1000],\n",
       "         [0.1200],\n",
       "         [0.1400],\n",
       "         [0.1600],\n",
       "         [0.1800]]),\n",
       " tensor([[0.3000],\n",
       "         [0.3140],\n",
       "         [0.3280],\n",
       "         [0.3420],\n",
       "         [0.3560],\n",
       "         [0.3700],\n",
       "         [0.3840],\n",
       "         [0.3980],\n",
       "         [0.4120],\n",
       "         [0.4260]]))"
      ]
     },
     "execution_count": 3,
     "metadata": {},
     "output_type": "execute_result"
    }
   ],
   "source": [
    "w = 0.7\n",
    "b = 0.3\n",
    "\n",
    "start=0\n",
    "end =1\n",
    "step = 0.02\n",
    "X = torch.arange(start,end,step).unsqueeze(dim=1)\n",
    "y = w * X + b\n",
    "X[:10],y[:10]"
   ]
  },
  {
   "cell_type": "code",
   "execution_count": 4,
   "id": "e44a877e",
   "metadata": {},
   "outputs": [
    {
     "data": {
      "text/plain": [
       "(50, 50)"
      ]
     },
     "execution_count": 4,
     "metadata": {},
     "output_type": "execute_result"
    }
   ],
   "source": [
    "len(X),len(y)"
   ]
  },
  {
   "cell_type": "code",
   "execution_count": 5,
   "id": "ecfb20f6",
   "metadata": {},
   "outputs": [],
   "source": [
    "train_split = int(0.8*len(X))\n",
    "X_train , y_train = X[:train_split],y[:train_split]\n",
    "X_test ,y_test = X[train_split:],y[train_split:]\n"
   ]
  },
  {
   "cell_type": "code",
   "execution_count": 6,
   "id": "89f88295",
   "metadata": {},
   "outputs": [
    {
     "data": {
      "text/plain": [
       "40"
      ]
     },
     "execution_count": 6,
     "metadata": {},
     "output_type": "execute_result"
    }
   ],
   "source": [
    "len(X_train)"
   ]
  },
  {
   "cell_type": "code",
   "execution_count": 7,
   "id": "555a42e0",
   "metadata": {},
   "outputs": [],
   "source": [
    "def plot_pred(train_data=X_train,train_label=y_train,\n",
    "              test_data=X_test,test_label=y_test,\n",
    "              prediction=None\n",
    "             ):\n",
    "    plt.figure(figsize=(10,7))\n",
    "    plt.scatter(train_data,train_label,c='b',label=\"Train Data\")\n",
    "    plt.scatter(test_data,test_label,c='g',label=\"Test data\")\n",
    "    if prediction is not None:\n",
    "        plt.scatter(test_data,prediction,c='r',label=\"Predictions\")\n",
    "    plt.legend(prop={\"size\":14})"
   ]
  },
  {
   "cell_type": "code",
   "execution_count": 8,
   "id": "18260206",
   "metadata": {},
   "outputs": [
    {
     "data": {
      "image/png": "[encoded data removed]",
      "text/plain": [
       "<Figure size 720x504 with 1 Axes>"
      ]
     },
     "metadata": {
      "needs_background": "light"
     },
     "output_type": "display_data"
    }
   ],
   "source": [
    "plot_pred()"
   ]
  },
  {
   "cell_type": "code",
   "execution_count": 9,
   "id": "e3286363",
   "metadata": {},
   "outputs": [
    {
     "data": {
      "text/plain": [
       "(tensor(0., requires_grad=True), tensor(0., requires_grad=True))"
      ]
     },
     "execution_count": 9,
     "metadata": {},
     "output_type": "execute_result"
    }
   ],
   "source": [
    "w = torch.tensor(0.0,requires_grad=True)\n",
    "b = torch.tensor(0.0,requires_grad=True)\n",
    "w,b"
   ]
  },
  {
   "cell_type": "code",
   "execution_count": 10,
   "id": "178e1ad3",
   "metadata": {},
   "outputs": [],
   "source": [
    "def forward(x,w,b):\n",
    "    return w * x + b"
   ]
  },
  {
   "cell_type": "code",
   "execution_count": 11,
   "id": "983bafc9",
   "metadata": {},
   "outputs": [],
   "source": [
    "def loss(y,y_pred):\n",
    "    return ((y_pred- y)**2).mean()"
   ]
  },
  {
   "cell_type": "code",
   "execution_count": 12,
   "id": "5789012c",
   "metadata": {},
   "outputs": [
    {
     "name": "stdout",
     "output_type": "stream",
     "text": [
      "eppch 100 , w = 0.229 , b = 0.436 , loss = 0.01422\n",
      "eppch 200 , w = 0.287 , b = 0.464 , loss = 0.00913\n",
      "eppch 300 , w = 0.324 , b = 0.453 , loss = 0.00758\n",
      "eppch 400 , w = 0.358 , b = 0.440 , loss = 0.00630\n",
      "eppch 500 , w = 0.388 , b = 0.428 , loss = 0.00524\n",
      "eppch 600 , w = 0.415 , b = 0.416 , loss = 0.00436\n",
      "eppch 700 , w = 0.440 , b = 0.406 , loss = 0.00363\n",
      "eppch 800 , w = 0.463 , b = 0.397 , loss = 0.00302\n",
      "eppch 900 , w = 0.484 , b = 0.388 , loss = 0.00251\n",
      "eppch 1000 , w = 0.503 , b = 0.381 , loss = 0.00209\n",
      "eppch 1100 , w = 0.520 , b = 0.374 , loss = 0.00174\n",
      "eppch 1200 , w = 0.536 , b = 0.367 , loss = 0.00145\n",
      "eppch 1300 , w = 0.550 , b = 0.361 , loss = 0.00120\n",
      "eppch 1400 , w = 0.564 , b = 0.356 , loss = 0.00100\n",
      "eppch 1500 , w = 0.576 , b = 0.351 , loss = 0.00083\n",
      "eppch 1600 , w = 0.586 , b = 0.346 , loss = 0.00069\n",
      "eppch 1700 , w = 0.596 , b = 0.342 , loss = 0.00058\n",
      "eppch 1800 , w = 0.606 , b = 0.339 , loss = 0.00048\n",
      "eppch 1900 , w = 0.614 , b = 0.335 , loss = 0.00040\n",
      "eppch 2000 , w = 0.621 , b = 0.332 , loss = 0.00033\n"
     ]
    }
   ],
   "source": [
    "l = 0.01\n",
    "n_epoch = 2000\n",
    "\n",
    "for epoch in range(n_epoch):\n",
    "    # Prediction \n",
    "    y_p = forward(X_train,w,b)\n",
    "    \n",
    "    #cal loss\n",
    "    loss = ((y_train- y_p)**2).mean()\n",
    "    # cal grad\n",
    "    loss.backward()\n",
    "    # update weight\n",
    "    with torch.no_grad():\n",
    "        w -= l * w.grad\n",
    "        b -= l * b.grad\n",
    "    # again set gard to zero    \n",
    "    w.grad.zero_()\n",
    "    b.grad.zero_()\n",
    "    if (epoch+1)%100 == 0:\n",
    "        print(f'eppch {epoch+1} , w = {w.item():.3f} , b = {b.item():.3f} , loss = {loss.item():.5f}')\n",
    "     "
   ]
  },
  {
   "cell_type": "code",
   "execution_count": 13,
   "id": "068f42c3",
   "metadata": {},
   "outputs": [
    {
     "data": {
      "image/png": "[encoded data removed]",
      "text/plain": [
       "<Figure size 720x504 with 1 Axes>"
      ]
     },
     "metadata": {
      "needs_background": "light"
     },
     "output_type": "display_data"
    }
   ],
   "source": [
    "with torch.inference_mode(): # disable grad function make faster training\n",
    "    y_pred= forward(X_test,w,b)  \n",
    "y_pred \n",
    "plot_pred(prediction=y_pred)"
   ]
  },
  {
   "cell_type": "code",
   "execution_count": 14,
   "id": "07a19eab",
   "metadata": {},
   "outputs": [],
   "source": [
    "class LinearReg(nn.Module):\n",
    "    def __init__(self,input_dim,output_dim):\n",
    "        super().__init__()\n",
    "        self.li = nn.Linear(input_dim,output_dim)\n",
    "    def forward(self,x):\n",
    "        return self.li(x)\n"
   ]
  },
  {
   "cell_type": "code",
   "execution_count": 15,
   "id": "bb249e43",
   "metadata": {},
   "outputs": [
    {
     "data": {
      "text/plain": [
       "(1, 1)"
      ]
     },
     "execution_count": 15,
     "metadata": {},
     "output_type": "execute_result"
    }
   ],
   "source": [
    "samples,features = X_train.shape\n",
    "input_dim,output_dim=features,features\n",
    "input_dim,output_dim"
   ]
  },
  {
   "cell_type": "code",
   "execution_count": 32,
   "id": "3181b620",
   "metadata": {},
   "outputs": [],
   "source": [
    "model = LinearReg(input_dim,output_dim)"
   ]
  },
  {
   "cell_type": "code",
   "execution_count": 33,
   "id": "b3476c4d",
   "metadata": {},
   "outputs": [
    {
     "data": {
      "text/plain": [
       "OrderedDict([('li.weight', tensor([[0.7645]])), ('li.bias', tensor([0.8300]))])"
      ]
     },
     "execution_count": 33,
     "metadata": {},
     "output_type": "execute_result"
    }
   ],
   "source": [
    "model.state_dict()"
   ]
  },
  {
   "cell_type": "code",
   "execution_count": 34,
   "id": "8fff25e7",
   "metadata": {},
   "outputs": [
    {
     "data": {
      "text/plain": [
       "tensor([[1.4416],\n",
       "        [1.4569],\n",
       "        [1.4722],\n",
       "        [1.4875],\n",
       "        [1.5028],\n",
       "        [1.5181],\n",
       "        [1.5334],\n",
       "        [1.5487],\n",
       "        [1.5640],\n",
       "        [1.5793]])"
      ]
     },
     "execution_count": 34,
     "metadata": {},
     "output_type": "execute_result"
    }
   ],
   "source": [
    "with torch.inference_mode(): # disable grad function make faster training\n",
    "    y_pred= model(X_test)  \n",
    "y_pred    "
   ]
  },
  {
   "cell_type": "code",
   "execution_count": 35,
   "id": "a2699edb",
   "metadata": {},
   "outputs": [
    {
     "data": {
      "image/png": "[encoded data removed]",
      "text/plain": [
       "<Figure size 720x504 with 1 Axes>"
      ]
     },
     "metadata": {
      "needs_background": "light"
     },
     "output_type": "display_data"
    }
   ],
   "source": [
    "plot_pred(prediction=y_pred)"
   ]
  },
  {
   "cell_type": "code",
   "execution_count": 36,
   "id": "ed9ba5f9",
   "metadata": {},
   "outputs": [],
   "source": [
    "loss_fn = nn.MSELoss()\n",
    "optimizer=torch.optim.SGD(params=model.parameters(),\n",
    "                          lr=0.01,\n",
    "                         )"
   ]
  },
  {
   "cell_type": "code",
   "execution_count": 37,
   "id": "d6967c6a",
   "metadata": {},
   "outputs": [
    {
     "name": "stdout",
     "output_type": "stream",
     "text": [
      "loss:0.3084445595741272\n",
      "loss:0.19325116276741028\n",
      "loss:0.12119388580322266\n",
      "loss:0.0761176124215126\n",
      "loss:0.04791749268770218\n",
      "loss:0.030273228883743286\n",
      "loss:0.01923157274723053\n",
      "loss:0.012319829314947128\n",
      "loss:0.007991346530616283\n",
      "loss:0.005278761498630047\n",
      "loss:0.003576983930543065\n",
      "loss:0.0025075306184589863\n",
      "loss:0.0018336859066039324\n",
      "loss:0.001407369738444686\n",
      "loss:0.0011359738418832421\n",
      "loss:0.0009615550516173244\n",
      "loss:0.0008478841627947986\n",
      "loss:0.0007722926675342023\n",
      "loss:0.0007206015870906413\n",
      "loss:0.0006839397246949375\n"
     ]
    }
   ],
   "source": [
    "torch.manual_seed(42)\n",
    "epochs=200\n",
    "epoch_counts=[]\n",
    "train_loss_value=[]\n",
    "test_loss_value = []\n",
    "\n",
    "for epoch in range(epochs):\n",
    "    #set model to training model\n",
    "    model.train()\n",
    "    # forward pass\n",
    "    y_pred = model(X_train)\n",
    "    # calculate loss\n",
    "    loss =loss_fn(y_pred,y_train)\n",
    "    # Optmizer zero grad\n",
    "    optimizer.zero_grad()\n",
    "    # Back prop\n",
    "    loss.backward()\n",
    "    #Optimizer step\n",
    "    optimizer.step()\n",
    "    # Eval model\n",
    "    model.eval()\n",
    "    # Test model\n",
    "    with torch.inference_mode():\n",
    "        test_pred = model(X_test)\n",
    "        test_loss = loss_fn(test_pred,y_test)\n",
    "    if epoch%10==0:\n",
    "        epoch_counts.append(epoch)\n",
    "        train_loss_value.append(loss.detach().numpy())\n",
    "        test_loss_value.append(test_loss)\n",
    "        print(f\"loss:{loss}\")\n",
    "    "
   ]
  },
  {
   "cell_type": "code",
   "execution_count": 38,
   "id": "f622674f",
   "metadata": {},
   "outputs": [
    {
     "data": {
      "text/plain": [
       "<matplotlib.legend.Legend at 0x157915d8580>"
      ]
     },
     "execution_count": 38,
     "metadata": {},
     "output_type": "execute_result"
    },
    {
     "data": {
      "image/png": "[encoded data removed]",
      "text/plain": [
       "<Figure size 432x288 with 1 Axes>"
      ]
     },
     "metadata": {
      "needs_background": "light"
     },
     "output_type": "display_data"
    }
   ],
   "source": [
    "plt.plot(epoch_counts,train_loss_value,label=\"Train\")\n",
    "plt.plot(epoch_counts,test_loss_value,c='r',label=\"Test\")\n",
    "plt.legend()"
   ]
  },
  {
   "cell_type": "code",
   "execution_count": 39,
   "id": "94e480f0",
   "metadata": {},
   "outputs": [
    {
     "name": "stdout",
     "output_type": "stream",
     "text": [
      "OrderedDict([('li.weight', tensor([[0.5933]])), ('li.bias', tensor([0.3487]))])\n"
     ]
    }
   ],
   "source": [
    "print(model.state_dict())"
   ]
  },
  {
   "cell_type": "code",
   "execution_count": 40,
   "id": "f2cee816",
   "metadata": {},
   "outputs": [
    {
     "data": {
      "image/png": "[encoded data removed]",
      "text/plain": [
       "<Figure size 720x504 with 1 Axes>"
      ]
     },
     "metadata": {
      "needs_background": "light"
     },
     "output_type": "display_data"
    }
   ],
   "source": [
    "with torch.inference_mode(): # disable grad function make faster training\n",
    "    y_pred= model(X_test)  \n",
    "y_pred \n",
    "plot_pred(prediction=y_pred)"
   ]
  },
  {
   "cell_type": "code",
   "execution_count": 47,
   "id": "cbbc5320",
   "metadata": {},
   "outputs": [],
   "source": [
    "import torch\n",
    "from torch import nn\n",
    "import torchvision\n",
    "from torch.utils.data import Dataset, DataLoader\n",
    "from torchvision.transforms import transforms\n",
    "import matplotlib.pyplot as plt"
   ]
  },
  {
   "cell_type": "code",
   "execution_count": 2,
   "id": "f7c7f68f",
   "metadata": {},
   "outputs": [],
   "source": [
    "device = torch.device('cuda' if torch.cuda.is_available() else 'cpu')"
   ]
  },
  {
   "cell_type": "code",
   "execution_count": 125,
   "id": "70c3e22f",
   "metadata": {},
   "outputs": [],
   "source": [
    "class MyDataset(Dataset):\n",
    "    def __init__(self, csv_file):\n",
    "        self.data = pd.read_csv(csv_file)\n",
    "        \n",
    "    def __len__(self):\n",
    "        return len(self.data)\n",
    "    \n",
    "    def __getitem__(self, idx):\n",
    "        sample = self.data.iloc[idx, :]\n",
    "        x = torch.tensor(sample[1:].values, dtype=torch.float32)\n",
    "        y = torch.tensor(sample[0], dtype=torch.long)\n",
    "        return x, y\n"
   ]
  },
  {
   "cell_type": "code",
   "execution_count": 126,
   "id": "7b0dd93d",
   "metadata": {},
   "outputs": [],
   "source": [
    "dataset = MyDataset('E:/DS/Datasets/mnist_train.csv')\n",
    "train_loader = DataLoader(dataset, batch_size=batch_size, shuffle=True)"
   ]
  },
  {
   "cell_type": "code",
   "execution_count": 127,
   "id": "fb6ac16f",
   "metadata": {},
   "outputs": [
    {
     "data": {
      "image/png": "[encoded data removed]",
      "text/plain": [
       "<Figure size 432x288 with 6 Axes>"
      ]
     },
     "metadata": {
      "needs_background": "light"
     },
     "output_type": "display_data"
    }
   ],
   "source": [
    "examples = iter(train_loader)\n",
    "e_data,e_target = examples.next()\n",
    "\n",
    "for i in range(6):\n",
    "    plt.subplot(2,3,i+1)\n",
    "    plt.imshow(e_data[i].reshape(28,28),cmap='gray')\n",
    "plt.show()    \n"
   ]
  },
  {
   "cell_type": "code",
   "execution_count": 129,
   "id": "f245e41d",
   "metadata": {},
   "outputs": [],
   "source": [
    "class ANN(nn.Module):\n",
    "    def __init__(self,input_dim,hidden_size,num_classes):\n",
    "        super(ANN,self).__init__()\n",
    "        self.l1 = nn.Linear(input_dim,hidden_size)\n",
    "        self.relu = nn.ReLU()\n",
    "        self.l2 = nn.Linear(hidden_size,num_classes)\n",
    "        \n",
    "       \n",
    "    def forward(self,X):\n",
    "        out = self.l1(X)\n",
    "        out = self.relu(out)\n",
    "        out = self.l2(out)\n",
    "    \n",
    "        return out"
   ]
  },
  {
   "cell_type": "code",
   "execution_count": 130,
   "id": "212b0c69",
   "metadata": {},
   "outputs": [],
   "source": [
    "input_dim = 784\n",
    "num_classes  = 10\n",
    "hidden_size = 16\n",
    "num_epochs = 10\n",
    "batch_size = 100\n",
    "learning_rate = 0.001"
   ]
  },
  {
   "cell_type": "code",
   "execution_count": 132,
   "id": "ef49d42d",
   "metadata": {},
   "outputs": [
    {
     "name": "stdout",
     "output_type": "stream",
     "text": [
      "ANN(\n",
      "  (l1): Linear(in_features=784, out_features=16, bias=True)\n",
      "  (relu): ReLU()\n",
      "  (l2): Linear(in_features=16, out_features=10, bias=True)\n",
      ")\n"
     ]
    }
   ],
   "source": [
    "model = ANN(input_dim,hidden_size,num_classes).to(device)\n",
    "print(model)\n",
    "loss_fn = nn.CrossEntropyLoss()\n",
    "optimizer = torch.optim.Adam(model.parameters(),lr=learning_rate)"
   ]
  },
  {
   "cell_type": "code",
   "execution_count": 133,
   "id": "9e49a00e",
   "metadata": {},
   "outputs": [
    {
     "name": "stdout",
     "output_type": "stream",
     "text": [
      "Epoch [1/10],Step [100/600] Loss:1.5809\n",
      "Epoch [1/10],Step [200/600] Loss:1.2079\n",
      "Epoch [1/10],Step [300/600] Loss:0.8931\n",
      "Epoch [1/10],Step [400/600] Loss:0.8036\n",
      "Epoch [1/10],Step [500/600] Loss:0.9348\n",
      "Epoch [1/10],Step [600/600] Loss:0.6126\n",
      "Epoch [2/10],Step [100/600] Loss:0.7006\n",
      "Epoch [2/10],Step [200/600] Loss:0.8955\n",
      "Epoch [2/10],Step [300/600] Loss:0.6153\n",
      "Epoch [2/10],Step [400/600] Loss:0.4978\n",
      "Epoch [2/10],Step [500/600] Loss:0.5680\n",
      "Epoch [2/10],Step [600/600] Loss:0.6067\n",
      "Epoch [3/10],Step [100/600] Loss:0.4876\n",
      "Epoch [3/10],Step [200/600] Loss:0.4670\n",
      "Epoch [3/10],Step [300/600] Loss:0.2975\n",
      "Epoch [3/10],Step [400/600] Loss:0.4786\n",
      "Epoch [3/10],Step [500/600] Loss:0.4338\n",
      "Epoch [3/10],Step [600/600] Loss:0.4665\n",
      "Epoch [4/10],Step [100/600] Loss:0.3105\n",
      "Epoch [4/10],Step [200/600] Loss:0.2330\n",
      "Epoch [4/10],Step [300/600] Loss:0.2298\n",
      "Epoch [4/10],Step [400/600] Loss:0.1850\n",
      "Epoch [4/10],Step [500/600] Loss:0.4157\n",
      "Epoch [4/10],Step [600/600] Loss:0.3298\n",
      "Epoch [5/10],Step [100/600] Loss:0.1825\n",
      "Epoch [5/10],Step [200/600] Loss:0.3077\n",
      "Epoch [5/10],Step [300/600] Loss:0.1344\n",
      "Epoch [5/10],Step [400/600] Loss:0.3494\n",
      "Epoch [5/10],Step [500/600] Loss:0.3825\n",
      "Epoch [5/10],Step [600/600] Loss:0.1410\n",
      "Epoch [6/10],Step [100/600] Loss:0.2413\n",
      "Epoch [6/10],Step [200/600] Loss:0.3193\n",
      "Epoch [6/10],Step [300/600] Loss:0.2155\n",
      "Epoch [6/10],Step [400/600] Loss:0.2629\n",
      "Epoch [6/10],Step [500/600] Loss:0.2804\n",
      "Epoch [6/10],Step [600/600] Loss:0.2817\n",
      "Epoch [7/10],Step [100/600] Loss:0.2148\n",
      "Epoch [7/10],Step [200/600] Loss:0.1822\n",
      "Epoch [7/10],Step [300/600] Loss:0.2311\n",
      "Epoch [7/10],Step [400/600] Loss:0.3523\n",
      "Epoch [7/10],Step [500/600] Loss:0.3147\n",
      "Epoch [7/10],Step [600/600] Loss:0.2041\n",
      "Epoch [8/10],Step [100/600] Loss:0.3723\n",
      "Epoch [8/10],Step [200/600] Loss:0.1993\n",
      "Epoch [8/10],Step [300/600] Loss:0.2173\n",
      "Epoch [8/10],Step [400/600] Loss:0.1975\n",
      "Epoch [8/10],Step [500/600] Loss:0.1862\n",
      "Epoch [8/10],Step [600/600] Loss:0.2199\n",
      "Epoch [9/10],Step [100/600] Loss:0.2390\n",
      "Epoch [9/10],Step [200/600] Loss:0.1353\n",
      "Epoch [9/10],Step [300/600] Loss:0.3338\n",
      "Epoch [9/10],Step [400/600] Loss:0.2073\n",
      "Epoch [9/10],Step [500/600] Loss:0.3164\n",
      "Epoch [9/10],Step [600/600] Loss:0.2465\n",
      "Epoch [10/10],Step [100/600] Loss:0.3002\n",
      "Epoch [10/10],Step [200/600] Loss:0.1865\n",
      "Epoch [10/10],Step [300/600] Loss:0.1780\n",
      "Epoch [10/10],Step [400/600] Loss:0.1764\n",
      "Epoch [10/10],Step [500/600] Loss:0.1665\n",
      "Epoch [10/10],Step [600/600] Loss:0.3174\n"
     ]
    }
   ],
   "source": [
    "total = len(train_loader)\n",
    "for epoch in range(num_epochs):\n",
    "    for i,(images,labels)  in enumerate(train_loader):\n",
    "        # load data to device\n",
    "        images = images.reshape(-1,28*28).to(device)\n",
    "        labels = labels.to(device)\n",
    "           \n",
    "        #forward pass\n",
    "        outputs = model(images)\n",
    "        loss = loss_fn(outputs,labels)\n",
    "        \n",
    "        # Backward and optimize\n",
    "        loss.backward()\n",
    "        optimizer.step()\n",
    "        optimizer.zero_grad()\n",
    "        if (i+1)%100 == 0:\n",
    "            print(f'Epoch [{epoch+1}/{num_epochs}],Step [{i+1}/{total}] Loss:{loss.item():.4f}')"
   ]
  },
  {
   "cell_type": "code",
   "execution_count": 134,
   "id": "0160a62c",
   "metadata": {},
   "outputs": [],
   "source": [
    "dataset = MyDataset('E:/DS/Datasets/mnist_test.csv')\n",
    "test_loader = DataLoader(dataset, batch_size=batch_size, shuffle=False)"
   ]
  },
  {
   "cell_type": "code",
   "execution_count": 135,
   "id": "c8305b01",
   "metadata": {},
   "outputs": [
    {
     "name": "stdout",
     "output_type": "stream",
     "text": [
      "Accuracy of network on 10000 test images:91.81\n"
     ]
    }
   ],
   "source": [
    "with torch.no_grad():\n",
    "    n_correct = 0\n",
    "    n_sample = len(test_loader.dataset)\n",
    "    for images,label in test_loader:\n",
    "        images = images.reshape(-1,28*28).to(device)\n",
    "        labels = label.to(device)\n",
    "        \n",
    "        outputs = model(images)\n",
    "        \n",
    "        _,predicted = torch.max(outputs,1)\n",
    "        \n",
    "        n_correct += (predicted == labels).sum().item()\n",
    "    acc = n_correct / n_sample\n",
    "    print(f'Accuracy of network on {n_sample} test images:{acc*100:.2f}')"
   ]
  },
  {
   "cell_type": "code",
   "execution_count": 144,
   "id": "e9c6d08e",
   "metadata": {},
   "outputs": [
    {
     "name": "stdout",
     "output_type": "stream",
     "text": [
      "1 2\n",
      "1 4\n",
      "2 2\n",
      "2 4\n"
     ]
    }
   ],
   "source": [
    "import itertools\n",
    "a = [1,2]\n",
    "b = [2,4]\n",
    "for a,b in itertools.product(a,b):\n",
    "    print(a,b)"
   ]
  },
  {
   "cell_type": "code",
   "execution_count": 149,
   "id": "979379df",
   "metadata": {},
   "outputs": [],
   "source": [
    "def MinWindowSubstring(strArr):\n",
    "    N = strArr[0]\n",
    "    K = strArr[1]\n",
    "    k_counts = dict.fromkeys(K, 0)\n",
    "    for c in K:\n",
    "        k_counts[c] += 1\n",
    "    print(k_counts)    \n",
    "    n = len(N)\n",
    "    left = right = 0\n",
    "    window_size = n + 1\n",
    "    window = \"\"\n",
    "    count = len(K)\n",
    "    while right < n:\n",
    "        if N[right] in k_counts:\n",
    "            k_counts[N[right]] -= 1\n",
    "            if k_counts[N[right]] >= 0:\n",
    "                count -= 1\n",
    "        right += 1\n",
    "        while count == 0:\n",
    "            if right - left < window_size:\n",
    "                window_size = right - left\n",
    "                window = N[left:right]\n",
    "            if N[left] in k_counts:\n",
    "                k_counts[N[left]] += 1\n",
    "                if k_counts[N[left]] > 0:\n",
    "                    count += 1\n",
    "            left += 1\n",
    "    return window"
   ]
  },
  {
   "cell_type": "code",
   "execution_count": 150,
   "id": "f988ebfa",
   "metadata": {},
   "outputs": [
    {
     "name": "stdout",
     "output_type": "stream",
     "text": [
      "{'a': 1, 'e': 1, 'd': 1}\n"
     ]
    },
    {
     "data": {
      "text/plain": [
       "'dae'"
      ]
     },
     "execution_count": 150,
     "metadata": {},
     "output_type": "execute_result"
    }
   ],
   "source": [
    "MinWindowSubstring(['aaabaaddae','aed'])"
   ]
  },
  {
   "cell_type": "code",
   "execution_count": 151,
   "id": "b2a6f626",
   "metadata": {},
   "outputs": [],
   "source": [
    "def ArrayRotation(arr):\n",
    "    n = len(arr)\n",
    "    k = arr[0] % n\n",
    "    rotated = arr[k:] + arr[:k]\n",
    "    return \"\".join(str(x) for x in rotated)"
   ]
  },
  {
   "cell_type": "code",
   "execution_count": 152,
   "id": "7759996c",
   "metadata": {},
   "outputs": [
    {
     "data": {
      "text/plain": [
       "'4161023'"
      ]
     },
     "execution_count": 152,
     "metadata": {},
     "output_type": "execute_result"
    }
   ],
   "source": [
    "ArrayRotation([2,3,4,1,6,10])"
   ]
  },
  {
   "cell_type": "code",
   "execution_count": null,
   "id": "2f81c20e",
   "metadata": {},
   "outputs": [],
   "source": []
  }
 ],
 "metadata": {
  "kernelspec": {
   "display_name": "Python 3 (ipykernel)",
   "language": "python",
   "name": "python3"
  },
  "language_info": {
   "codemirror_mode": {
    "name": "ipython",
    "version": 3
   },
   "file_extension": ".py",
   "mimetype": "text/x-python",
   "name": "python",
   "nbconvert_exporter": "python",
   "pygments_lexer": "ipython3",
   "version": "3.9.12"
  },
  "varInspector": {
   "cols": {
    "lenName": 16,
    "lenType": 16,
    "lenVar": 40
   },
   "kernels_config": {
    "python": {
     "delete_cmd_postfix": "",
     "delete_cmd_prefix": "del ",
     "library": "var_list.py",
     "varRefreshCmd": "print(var_dic_list())"
    },
    "r": {
     "delete_cmd_postfix": ") ",
     "delete_cmd_prefix": "rm(",
     "library": "var_list.r",
     "varRefreshCmd": "cat(var_dic_list()) "
    }
   },
   "types_to_exclude": [
    "module",
    "function",
    "builtin_function_or_method",
    "instance",
    "_Feature"
   ],
   "window_display": false
  }
 },
 "nbformat": 4,
 "nbformat_minor": 5
}
